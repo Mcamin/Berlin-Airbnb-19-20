{
 "cells": [
  {
   "cell_type": "markdown",
   "metadata": {},
   "source": [
    "# Udacity - CRISP-DM Project - Berlin’s Airbnb market in 2019 /2020"
   ]
  },
  {
   "cell_type": "markdown",
   "metadata": {},
   "source": [
    "## 1. BUSINESS UNDERSTANDING\n",
    "\n",
    "The Berlin AirBnB Dataset contains data about AirBnB listings in Berlin, calendar availability for each of these listings as well as user reviews on the listings. Using this dataset, I am going to attempt to answer the following business questions.\n",
    "\n",
    "#### Pricing Trends\n",
    "1. How does pricing increase or decrease by season and what is the peak season in Berlin?\n",
    "2. How does pricing increase or decrease by neighborhood and which ones are the priciest neighborhoods in Berlin?\n",
    "3. How does property types within neighborhoods impact price for the most expensive neighborhoods and most common property types?\n",
    "\n",
    "#### Sentiment Analysis of Reviews\n",
    "4. How can we categorize reviews based on sentiments?\n",
    "5. Can we map positive and negative sentiments from reviews to neighborhoods to understand which neighborhoonds rank higher on the positive sentiment scale and which ones rank higher on the negative sentiment scale?\n",
    "6. Can we explore some of the worst reviews for additional insights?\n",
    "\n",
    "#### Price Prediction\n",
    "Can we predict price for a given listing?\n",
    "What factors of the listing correlate best for predicting price?\n",
    "\n",
    "Pricing trend related questions can help understand peak seasons and neighborhood in Berlin and can allow AirBnB to regulate inventory accordingly. It can also help with targeting more effective marketing campaigns.\n",
    "\n",
    "Sentiment analysis of reviews can give AirBnB insight into brand affinity and gauge consumer interest. In addition, associating the sentiments with neighborhoods can detect problematic neighborhoods.\n",
    "\n",
    "Price prediction can help understand what factors mostly correlate with price. This is helpful so these features can be top of mind for AirBnB as well as AirBnB hosts."
   ]
  },
  {
   "cell_type": "markdown",
   "metadata": {},
   "source": [
    "## 2. DATA UNDERSTANDING\n",
    "\n",
    "### Let's explore the data\n",
    "\n",
    "As a first step, I will be reading the 3 files part of the Berlin AirBnB dataset and exploring each of the datasets a bit."
   ]
  },
  {
   "cell_type": "code",
   "execution_count": 7,
   "metadata": {},
   "outputs": [
    {
     "name": "stderr",
     "output_type": "stream",
     "text": [
      "[nltk_data] Downloading package vader_lexicon to\n",
      "[nltk_data]     C:\\Users\\ahmed\\AppData\\Roaming\\nltk_data...\n",
      "[nltk_data]   Package vader_lexicon is already up-to-date!\n"
     ]
    },
    {
     "data": {
      "text/plain": [
       "True"
      ]
     },
     "execution_count": 7,
     "metadata": {},
     "output_type": "execute_result"
    }
   ],
   "source": [
    "# Import statements\n",
    "import numpy as np\n",
    "import pandas as pd\n",
    "import matplotlib.pyplot as plt\n",
    "from IPython import display\n",
    "%matplotlib inline\n",
    "import seaborn as sns\n",
    "import nltk\n",
    "from nltk.sentiment.vader import SentimentIntensityAnalyzer\n",
    "from collections import Counter\n",
    "from sklearn.model_selection import train_test_split\n",
    "from sklearn.linear_model import LinearRegression\n",
    "from sklearn.metrics import r2_score\n",
    "nltk.download('vader_lexicon')"
   ]
  },
  {
   "cell_type": "code",
   "execution_count": 8,
   "metadata": {},
   "outputs": [
    {
     "data": {
      "text/html": [
       "<div>\n",
       "<style scoped>\n",
       "    .dataframe tbody tr th:only-of-type {\n",
       "        vertical-align: middle;\n",
       "    }\n",
       "\n",
       "    .dataframe tbody tr th {\n",
       "        vertical-align: top;\n",
       "    }\n",
       "\n",
       "    .dataframe thead th {\n",
       "        text-align: right;\n",
       "    }\n",
       "</style>\n",
       "<table border=\"1\" class=\"dataframe\">\n",
       "  <thead>\n",
       "    <tr style=\"text-align: right;\">\n",
       "      <th></th>\n",
       "      <th>listing_id</th>\n",
       "      <th>date</th>\n",
       "      <th>available</th>\n",
       "      <th>price</th>\n",
       "      <th>adjusted_price</th>\n",
       "      <th>minimum_nights</th>\n",
       "      <th>maximum_nights</th>\n",
       "    </tr>\n",
       "  </thead>\n",
       "  <tbody>\n",
       "    <tr>\n",
       "      <th>0</th>\n",
       "      <td>38570229</td>\n",
       "      <td>2019-09-19</td>\n",
       "      <td>t</td>\n",
       "      <td>$130.00</td>\n",
       "      <td>$130.00</td>\n",
       "      <td>1</td>\n",
       "      <td>1125</td>\n",
       "    </tr>\n",
       "    <tr>\n",
       "      <th>1</th>\n",
       "      <td>38570229</td>\n",
       "      <td>2019-09-20</td>\n",
       "      <td>t</td>\n",
       "      <td>$142.00</td>\n",
       "      <td>$142.00</td>\n",
       "      <td>1</td>\n",
       "      <td>1125</td>\n",
       "    </tr>\n",
       "    <tr>\n",
       "      <th>2</th>\n",
       "      <td>38570229</td>\n",
       "      <td>2019-09-21</td>\n",
       "      <td>t</td>\n",
       "      <td>$158.00</td>\n",
       "      <td>$158.00</td>\n",
       "      <td>1</td>\n",
       "      <td>1125</td>\n",
       "    </tr>\n",
       "    <tr>\n",
       "      <th>3</th>\n",
       "      <td>38570229</td>\n",
       "      <td>2019-09-22</td>\n",
       "      <td>t</td>\n",
       "      <td>$129.00</td>\n",
       "      <td>$129.00</td>\n",
       "      <td>1</td>\n",
       "      <td>1125</td>\n",
       "    </tr>\n",
       "    <tr>\n",
       "      <th>4</th>\n",
       "      <td>38570229</td>\n",
       "      <td>2019-09-23</td>\n",
       "      <td>f</td>\n",
       "      <td>$129.00</td>\n",
       "      <td>$129.00</td>\n",
       "      <td>1</td>\n",
       "      <td>1125</td>\n",
       "    </tr>\n",
       "  </tbody>\n",
       "</table>\n",
       "</div>"
      ],
      "text/plain": [
       "   listing_id        date available    price adjusted_price  minimum_nights  \\\n",
       "0    38570229  2019-09-19         t  $130.00        $130.00               1   \n",
       "1    38570229  2019-09-20         t  $142.00        $142.00               1   \n",
       "2    38570229  2019-09-21         t  $158.00        $158.00               1   \n",
       "3    38570229  2019-09-22         t  $129.00        $129.00               1   \n",
       "4    38570229  2019-09-23         f  $129.00        $129.00               1   \n",
       "\n",
       "   maximum_nights  \n",
       "0            1125  \n",
       "1            1125  \n",
       "2            1125  \n",
       "3            1125  \n",
       "4            1125  "
      ]
     },
     "execution_count": 8,
     "metadata": {},
     "output_type": "execute_result"
    }
   ],
   "source": [
    "# Read in the calendar data set\n",
    "df_calendar = pd.read_csv('./Berlin/calendar.csv')\n",
    "df_calendar.head()"
   ]
  },
  {
   "cell_type": "code",
   "execution_count": 9,
   "metadata": {},
   "outputs": [
    {
     "data": {
      "text/html": [
       "<div>\n",
       "<style scoped>\n",
       "    .dataframe tbody tr th:only-of-type {\n",
       "        vertical-align: middle;\n",
       "    }\n",
       "\n",
       "    .dataframe tbody tr th {\n",
       "        vertical-align: top;\n",
       "    }\n",
       "\n",
       "    .dataframe thead th {\n",
       "        text-align: right;\n",
       "    }\n",
       "</style>\n",
       "<table border=\"1\" class=\"dataframe\">\n",
       "  <thead>\n",
       "    <tr style=\"text-align: right;\">\n",
       "      <th></th>\n",
       "      <th>id</th>\n",
       "      <th>listing_url</th>\n",
       "      <th>scrape_id</th>\n",
       "      <th>last_scraped</th>\n",
       "      <th>name</th>\n",
       "      <th>summary</th>\n",
       "      <th>space</th>\n",
       "      <th>description</th>\n",
       "      <th>experiences_offered</th>\n",
       "      <th>neighborhood_overview</th>\n",
       "      <th>...</th>\n",
       "      <th>instant_bookable</th>\n",
       "      <th>is_business_travel_ready</th>\n",
       "      <th>cancellation_policy</th>\n",
       "      <th>require_guest_profile_picture</th>\n",
       "      <th>require_guest_phone_verification</th>\n",
       "      <th>calculated_host_listings_count</th>\n",
       "      <th>calculated_host_listings_count_entire_homes</th>\n",
       "      <th>calculated_host_listings_count_private_rooms</th>\n",
       "      <th>calculated_host_listings_count_shared_rooms</th>\n",
       "      <th>reviews_per_month</th>\n",
       "    </tr>\n",
       "  </thead>\n",
       "  <tbody>\n",
       "    <tr>\n",
       "      <th>0</th>\n",
       "      <td>1944</td>\n",
       "      <td>https://www.airbnb.com/rooms/1944</td>\n",
       "      <td>20190919050244</td>\n",
       "      <td>2019-09-19</td>\n",
       "      <td>cafeheaven Pberg/Mitte/Wed for the summer 2019</td>\n",
       "      <td>Private, bright and friendly room. You'd be sh...</td>\n",
       "      <td>The room is very large, private, cozy, bright,...</td>\n",
       "      <td>Private, bright and friendly room. You'd be sh...</td>\n",
       "      <td>none</td>\n",
       "      <td>near all the trendy cafés and flea markets and...</td>\n",
       "      <td>...</td>\n",
       "      <td>f</td>\n",
       "      <td>f</td>\n",
       "      <td>moderate</td>\n",
       "      <td>f</td>\n",
       "      <td>f</td>\n",
       "      <td>1</td>\n",
       "      <td>0</td>\n",
       "      <td>1</td>\n",
       "      <td>0</td>\n",
       "      <td>0.25</td>\n",
       "    </tr>\n",
       "    <tr>\n",
       "      <th>1</th>\n",
       "      <td>2015</td>\n",
       "      <td>https://www.airbnb.com/rooms/2015</td>\n",
       "      <td>20190919050244</td>\n",
       "      <td>2019-09-19</td>\n",
       "      <td>Berlin-Mitte Value! Quiet courtyard/very central</td>\n",
       "      <td>Great location!  30 of 75 sq meters. This wood...</td>\n",
       "      <td>A+++ location! This „Einliegerwohnung“ is an e...</td>\n",
       "      <td>Great location!  30 of 75 sq meters. This wood...</td>\n",
       "      <td>none</td>\n",
       "      <td>It is located in the former East Berlin area o...</td>\n",
       "      <td>...</td>\n",
       "      <td>f</td>\n",
       "      <td>f</td>\n",
       "      <td>moderate</td>\n",
       "      <td>f</td>\n",
       "      <td>f</td>\n",
       "      <td>5</td>\n",
       "      <td>5</td>\n",
       "      <td>0</td>\n",
       "      <td>0</td>\n",
       "      <td>3.03</td>\n",
       "    </tr>\n",
       "    <tr>\n",
       "      <th>2</th>\n",
       "      <td>3176</td>\n",
       "      <td>https://www.airbnb.com/rooms/3176</td>\n",
       "      <td>20190919050244</td>\n",
       "      <td>2019-09-19</td>\n",
       "      <td>Fabulous Flat in great Location</td>\n",
       "      <td>This beautiful first floor apartment  is situa...</td>\n",
       "      <td>1st floor (68m2) apartment on Kollwitzplatz/ P...</td>\n",
       "      <td>This beautiful first floor apartment  is situa...</td>\n",
       "      <td>none</td>\n",
       "      <td>The neighbourhood is famous for its variety of...</td>\n",
       "      <td>...</td>\n",
       "      <td>f</td>\n",
       "      <td>f</td>\n",
       "      <td>strict_14_with_grace_period</td>\n",
       "      <td>f</td>\n",
       "      <td>f</td>\n",
       "      <td>1</td>\n",
       "      <td>1</td>\n",
       "      <td>0</td>\n",
       "      <td>0</td>\n",
       "      <td>1.16</td>\n",
       "    </tr>\n",
       "    <tr>\n",
       "      <th>3</th>\n",
       "      <td>3309</td>\n",
       "      <td>https://www.airbnb.com/rooms/3309</td>\n",
       "      <td>20190919050244</td>\n",
       "      <td>2019-09-19</td>\n",
       "      <td>BerlinSpot Schöneberg near KaDeWe</td>\n",
       "      <td>First of all: I prefer short-notice bookings. ...</td>\n",
       "      <td>Your room is really big and has 26 sqm, is ver...</td>\n",
       "      <td>First of all: I prefer short-notice bookings. ...</td>\n",
       "      <td>none</td>\n",
       "      <td>My flat is in the middle of West-Berlin, direc...</td>\n",
       "      <td>...</td>\n",
       "      <td>f</td>\n",
       "      <td>f</td>\n",
       "      <td>strict_14_with_grace_period</td>\n",
       "      <td>f</td>\n",
       "      <td>f</td>\n",
       "      <td>1</td>\n",
       "      <td>0</td>\n",
       "      <td>1</td>\n",
       "      <td>0</td>\n",
       "      <td>0.36</td>\n",
       "    </tr>\n",
       "    <tr>\n",
       "      <th>4</th>\n",
       "      <td>6883</td>\n",
       "      <td>https://www.airbnb.com/rooms/6883</td>\n",
       "      <td>20190919050244</td>\n",
       "      <td>2019-09-19</td>\n",
       "      <td>Stylish East Side Loft in Center with AC &amp; 2 b...</td>\n",
       "      <td>NaN</td>\n",
       "      <td>Stay in a stylish loft on the second floor and...</td>\n",
       "      <td>Stay in a stylish loft on the second floor and...</td>\n",
       "      <td>none</td>\n",
       "      <td>The emerging and upcoming East of the new hip ...</td>\n",
       "      <td>...</td>\n",
       "      <td>f</td>\n",
       "      <td>f</td>\n",
       "      <td>moderate</td>\n",
       "      <td>f</td>\n",
       "      <td>t</td>\n",
       "      <td>1</td>\n",
       "      <td>1</td>\n",
       "      <td>0</td>\n",
       "      <td>0</td>\n",
       "      <td>1.08</td>\n",
       "    </tr>\n",
       "  </tbody>\n",
       "</table>\n",
       "<p>5 rows × 106 columns</p>\n",
       "</div>"
      ],
      "text/plain": [
       "     id                        listing_url       scrape_id last_scraped  \\\n",
       "0  1944  https://www.airbnb.com/rooms/1944  20190919050244   2019-09-19   \n",
       "1  2015  https://www.airbnb.com/rooms/2015  20190919050244   2019-09-19   \n",
       "2  3176  https://www.airbnb.com/rooms/3176  20190919050244   2019-09-19   \n",
       "3  3309  https://www.airbnb.com/rooms/3309  20190919050244   2019-09-19   \n",
       "4  6883  https://www.airbnb.com/rooms/6883  20190919050244   2019-09-19   \n",
       "\n",
       "                                                name  \\\n",
       "0     cafeheaven Pberg/Mitte/Wed for the summer 2019   \n",
       "1   Berlin-Mitte Value! Quiet courtyard/very central   \n",
       "2                    Fabulous Flat in great Location   \n",
       "3                  BerlinSpot Schöneberg near KaDeWe   \n",
       "4  Stylish East Side Loft in Center with AC & 2 b...   \n",
       "\n",
       "                                             summary  \\\n",
       "0  Private, bright and friendly room. You'd be sh...   \n",
       "1  Great location!  30 of 75 sq meters. This wood...   \n",
       "2  This beautiful first floor apartment  is situa...   \n",
       "3  First of all: I prefer short-notice bookings. ...   \n",
       "4                                                NaN   \n",
       "\n",
       "                                               space  \\\n",
       "0  The room is very large, private, cozy, bright,...   \n",
       "1  A+++ location! This „Einliegerwohnung“ is an e...   \n",
       "2  1st floor (68m2) apartment on Kollwitzplatz/ P...   \n",
       "3  Your room is really big and has 26 sqm, is ver...   \n",
       "4  Stay in a stylish loft on the second floor and...   \n",
       "\n",
       "                                         description experiences_offered  \\\n",
       "0  Private, bright and friendly room. You'd be sh...                none   \n",
       "1  Great location!  30 of 75 sq meters. This wood...                none   \n",
       "2  This beautiful first floor apartment  is situa...                none   \n",
       "3  First of all: I prefer short-notice bookings. ...                none   \n",
       "4  Stay in a stylish loft on the second floor and...                none   \n",
       "\n",
       "                               neighborhood_overview  ... instant_bookable  \\\n",
       "0  near all the trendy cafés and flea markets and...  ...                f   \n",
       "1  It is located in the former East Berlin area o...  ...                f   \n",
       "2  The neighbourhood is famous for its variety of...  ...                f   \n",
       "3  My flat is in the middle of West-Berlin, direc...  ...                f   \n",
       "4  The emerging and upcoming East of the new hip ...  ...                f   \n",
       "\n",
       "  is_business_travel_ready          cancellation_policy  \\\n",
       "0                        f                     moderate   \n",
       "1                        f                     moderate   \n",
       "2                        f  strict_14_with_grace_period   \n",
       "3                        f  strict_14_with_grace_period   \n",
       "4                        f                     moderate   \n",
       "\n",
       "  require_guest_profile_picture require_guest_phone_verification  \\\n",
       "0                             f                                f   \n",
       "1                             f                                f   \n",
       "2                             f                                f   \n",
       "3                             f                                f   \n",
       "4                             f                                t   \n",
       "\n",
       "   calculated_host_listings_count  \\\n",
       "0                               1   \n",
       "1                               5   \n",
       "2                               1   \n",
       "3                               1   \n",
       "4                               1   \n",
       "\n",
       "   calculated_host_listings_count_entire_homes  \\\n",
       "0                                            0   \n",
       "1                                            5   \n",
       "2                                            1   \n",
       "3                                            0   \n",
       "4                                            1   \n",
       "\n",
       "  calculated_host_listings_count_private_rooms  \\\n",
       "0                                            1   \n",
       "1                                            0   \n",
       "2                                            0   \n",
       "3                                            1   \n",
       "4                                            0   \n",
       "\n",
       "   calculated_host_listings_count_shared_rooms  reviews_per_month  \n",
       "0                                            0               0.25  \n",
       "1                                            0               3.03  \n",
       "2                                            0               1.16  \n",
       "3                                            0               0.36  \n",
       "4                                            0               1.08  \n",
       "\n",
       "[5 rows x 106 columns]"
      ]
     },
     "execution_count": 9,
     "metadata": {},
     "output_type": "execute_result"
    }
   ],
   "source": [
    "# Read in the listings data set\n",
    "df_listings = pd.read_csv('./Berlin/listings.csv')\n",
    "df_listings.head()"
   ]
  },
  {
   "cell_type": "code",
   "execution_count": 10,
   "metadata": {},
   "outputs": [
    {
     "data": {
      "text/html": [
       "<div>\n",
       "<style scoped>\n",
       "    .dataframe tbody tr th:only-of-type {\n",
       "        vertical-align: middle;\n",
       "    }\n",
       "\n",
       "    .dataframe tbody tr th {\n",
       "        vertical-align: top;\n",
       "    }\n",
       "\n",
       "    .dataframe thead th {\n",
       "        text-align: right;\n",
       "    }\n",
       "</style>\n",
       "<table border=\"1\" class=\"dataframe\">\n",
       "  <thead>\n",
       "    <tr style=\"text-align: right;\">\n",
       "      <th></th>\n",
       "      <th>listing_id</th>\n",
       "      <th>id</th>\n",
       "      <th>date</th>\n",
       "      <th>reviewer_id</th>\n",
       "      <th>reviewer_name</th>\n",
       "      <th>comments</th>\n",
       "    </tr>\n",
       "  </thead>\n",
       "  <tbody>\n",
       "    <tr>\n",
       "      <th>0</th>\n",
       "      <td>1944</td>\n",
       "      <td>7126992</td>\n",
       "      <td>2013-09-07</td>\n",
       "      <td>8207524</td>\n",
       "      <td>Mirko</td>\n",
       "      <td>I want to thank Laura&amp;Emiliano for their hospi...</td>\n",
       "    </tr>\n",
       "    <tr>\n",
       "      <th>1</th>\n",
       "      <td>1944</td>\n",
       "      <td>7428447</td>\n",
       "      <td>2013-09-19</td>\n",
       "      <td>3021574</td>\n",
       "      <td>Rafiee</td>\n",
       "      <td>Very convenient  and very quiet. You will stay...</td>\n",
       "    </tr>\n",
       "    <tr>\n",
       "      <th>2</th>\n",
       "      <td>1944</td>\n",
       "      <td>8455250</td>\n",
       "      <td>2013-10-31</td>\n",
       "      <td>5875429</td>\n",
       "      <td>Grzegorz</td>\n",
       "      <td>I've spent 2 nights at place of Laura and Emil...</td>\n",
       "    </tr>\n",
       "    <tr>\n",
       "      <th>3</th>\n",
       "      <td>1944</td>\n",
       "      <td>11105498</td>\n",
       "      <td>2014-03-20</td>\n",
       "      <td>5361252</td>\n",
       "      <td>Ngọc Thúy</td>\n",
       "      <td>The reservation was canceled 2 days before arr...</td>\n",
       "    </tr>\n",
       "    <tr>\n",
       "      <th>4</th>\n",
       "      <td>1944</td>\n",
       "      <td>15920963</td>\n",
       "      <td>2014-07-18</td>\n",
       "      <td>6659444</td>\n",
       "      <td>Nathalie</td>\n",
       "      <td>Laura est très sympathique et l'appartement fa...</td>\n",
       "    </tr>\n",
       "  </tbody>\n",
       "</table>\n",
       "</div>"
      ],
      "text/plain": [
       "   listing_id        id        date  reviewer_id reviewer_name  \\\n",
       "0        1944   7126992  2013-09-07      8207524         Mirko   \n",
       "1        1944   7428447  2013-09-19      3021574        Rafiee   \n",
       "2        1944   8455250  2013-10-31      5875429      Grzegorz   \n",
       "3        1944  11105498  2014-03-20      5361252     Ngọc Thúy   \n",
       "4        1944  15920963  2014-07-18      6659444      Nathalie   \n",
       "\n",
       "                                            comments  \n",
       "0  I want to thank Laura&Emiliano for their hospi...  \n",
       "1  Very convenient  and very quiet. You will stay...  \n",
       "2  I've spent 2 nights at place of Laura and Emil...  \n",
       "3  The reservation was canceled 2 days before arr...  \n",
       "4  Laura est très sympathique et l'appartement fa...  "
      ]
     },
     "execution_count": 10,
     "metadata": {},
     "output_type": "execute_result"
    }
   ],
   "source": [
    "# Read in the reviews data set\n",
    "df_reviews = pd.read_csv('./Berlin/reviews.csv')\n",
    "df_reviews.head()"
   ]
  },
  {
   "cell_type": "markdown",
   "metadata": {},
   "source": [
    "### CALENDAR Data Set\n",
    "\n",
    "Let's explore the Calendar data set first. We wil be looking at a few things:\n",
    "1. Number of rows and columns in the dataset\n",
    "2. Columns with missing values and columns that have no missing values\n",
    "3. Describe the dataset to see features about each column\n"
   ]
  },
  {
   "cell_type": "code",
   "execution_count": 11,
   "metadata": {},
   "outputs": [
    {
     "name": "stdout",
     "output_type": "stream",
     "text": [
      "Number of rows and columns:  (8914030, 7)\n",
      "listing_id          0\n",
      "date                0\n",
      "available           0\n",
      "price             182\n",
      "adjusted_price    182\n",
      "minimum_nights      0\n",
      "maximum_nights      0\n",
      "dtype: int64\n",
      "          listing_id        date available    price adjusted_price  \\\n",
      "count   8.914030e+06     8914030   8914030  8913848        8913848   \n",
      "unique           NaN         387         2      893            901   \n",
      "top              NaN  2019-11-14         f   $50.00         $50.00   \n",
      "freq             NaN       24422   7094101   448022         447563   \n",
      "mean    1.967378e+07         NaN       NaN      NaN            NaN   \n",
      "std     1.110589e+07         NaN       NaN      NaN            NaN   \n",
      "min     1.944000e+03         NaN       NaN      NaN            NaN   \n",
      "25%     9.921767e+06         NaN       NaN      NaN            NaN   \n",
      "50%     2.010907e+07         NaN       NaN      NaN            NaN   \n",
      "75%     2.907832e+07         NaN       NaN      NaN            NaN   \n",
      "max     3.873117e+07         NaN       NaN      NaN            NaN   \n",
      "\n",
      "        minimum_nights  maximum_nights  \n",
      "count     8.914030e+06    8.914030e+06  \n",
      "unique             NaN             NaN  \n",
      "top                NaN             NaN  \n",
      "freq               NaN             NaN  \n",
      "mean      6.992736e+00    6.073627e+02  \n",
      "std       2.389863e+01    6.738340e+02  \n",
      "min       1.000000e+00    1.000000e+00  \n",
      "25%       2.000000e+00    2.000000e+01  \n",
      "50%       3.000000e+00    1.123000e+03  \n",
      "75%       4.000000e+00    1.125000e+03  \n",
      "max       1.000000e+03    5.000000e+04  \n"
     ]
    }
   ],
   "source": [
    "# Print rows and columns in calendar data set\n",
    "print(\"Number of rows and columns: \", df_calendar.shape)\n",
    "# Assess null values\n",
    "print(df_calendar.isnull().sum())\n",
    "# Describe\n",
    "print(df_calendar.describe(include='all'))"
   ]
  },
  {
   "cell_type": "markdown",
   "metadata": {},
   "source": [
    "#### FINDINGS\n",
    "\n",
    "Based on the above, it seems like there will be little data prep required to use this dataset. The only missing values are in the price column which could be just due to the fact that the listing is unavailable for those days."
   ]
  },
  {
   "cell_type": "markdown",
   "metadata": {},
   "source": [
    "### LISTINGS Data Set\n",
    "\n",
    "Next, let's explore the Listings data set. We wil be looking at a few things:\n",
    "1. Number of rows and columns in the dataset\n",
    "2. Columns with missing values and columns that have no missing values\n",
    "3. Describe the dataset to see features about each column\n",
    "4. Explore some of the categorical features"
   ]
  },
  {
   "cell_type": "code",
   "execution_count": 12,
   "metadata": {},
   "outputs": [
    {
     "name": "stdout",
     "output_type": "stream",
     "text": [
      "Number of rows and columns:  (24422, 106)\n",
      "id                                                  0\n",
      "listing_url                                         0\n",
      "scrape_id                                           0\n",
      "last_scraped                                        0\n",
      "name                                               51\n",
      "summary                                          1191\n",
      "space                                            8588\n",
      "description                                       385\n",
      "experiences_offered                                 0\n",
      "neighborhood_overview                           10872\n",
      "notes                                           16554\n",
      "transit                                          9479\n",
      "access                                          13100\n",
      "interaction                                     12241\n",
      "house_rules                                     12042\n",
      "thumbnail_url                                   24422\n",
      "medium_url                                      24422\n",
      "picture_url                                         0\n",
      "xl_picture_url                                  24422\n",
      "host_id                                             0\n",
      "host_url                                            0\n",
      "host_name                                          32\n",
      "host_since                                         32\n",
      "host_location                                     119\n",
      "host_about                                      12359\n",
      "host_response_time                              10411\n",
      "host_response_rate                              10411\n",
      "host_acceptance_rate                            24422\n",
      "host_is_superhost                                  32\n",
      "host_thumbnail_url                                 32\n",
      "                                                ...  \n",
      "has_availability                                    0\n",
      "availability_30                                     0\n",
      "availability_60                                     0\n",
      "availability_90                                     0\n",
      "availability_365                                    0\n",
      "calendar_last_scraped                               0\n",
      "number_of_reviews                                   0\n",
      "number_of_reviews_ltm                               0\n",
      "first_review                                     4136\n",
      "last_review                                      4136\n",
      "review_scores_rating                             4610\n",
      "review_scores_accuracy                           4635\n",
      "review_scores_cleanliness                        4632\n",
      "review_scores_checkin                            4654\n",
      "review_scores_communication                      4637\n",
      "review_scores_location                           4653\n",
      "review_scores_value                              4656\n",
      "requires_license                                    0\n",
      "license                                         21926\n",
      "jurisdiction_names                              24422\n",
      "instant_bookable                                    0\n",
      "is_business_travel_ready                            0\n",
      "cancellation_policy                                 1\n",
      "require_guest_profile_picture                       0\n",
      "require_guest_phone_verification                    0\n",
      "calculated_host_listings_count                      0\n",
      "calculated_host_listings_count_entire_homes         0\n",
      "calculated_host_listings_count_private_rooms        0\n",
      "calculated_host_listings_count_shared_rooms         0\n",
      "reviews_per_month                                4136\n",
      "Length: 106, dtype: int64\n"
     ]
    }
   ],
   "source": [
    "# Print rows and columns in calendar data set\n",
    "print(\"Number of rows and columns: \", df_listings.shape)\n",
    "# Assess null values\n",
    "print(df_listings.isnull().sum())"
   ]
  },
  {
   "cell_type": "code",
   "execution_count": 13,
   "metadata": {},
   "outputs": [
    {
     "name": "stdout",
     "output_type": "stream",
     "text": [
      "                  id                            listing_url     scrape_id  \\\n",
      "count   2.442200e+04                                  24422  2.442200e+04   \n",
      "unique           NaN                                  24422           NaN   \n",
      "top              NaN  https://www.airbnb.com/rooms/19484828           NaN   \n",
      "freq             NaN                                      1           NaN   \n",
      "mean    1.967378e+07                                    NaN  2.019092e+13   \n",
      "std     1.110612e+07                                    NaN  3.707107e+00   \n",
      "min     1.944000e+03                                    NaN  2.019092e+13   \n",
      "25%     9.922960e+06                                    NaN  2.019092e+13   \n",
      "50%     2.010907e+07                                    NaN  2.019092e+13   \n",
      "75%     2.907823e+07                                    NaN  2.019092e+13   \n",
      "max     3.873117e+07                                    NaN  2.019092e+13   \n",
      "\n",
      "       last_scraped                            name  \\\n",
      "count         24422                           24371   \n",
      "unique            2                           23722   \n",
      "top      2019-09-19  Gemütliches Zimmer in Neukölln   \n",
      "freq          24421                               8   \n",
      "mean            NaN                             NaN   \n",
      "std             NaN                             NaN   \n",
      "min             NaN                             NaN   \n",
      "25%             NaN                             NaN   \n",
      "50%             NaN                             NaN   \n",
      "75%             NaN                             NaN   \n",
      "max             NaN                             NaN   \n",
      "\n",
      "                                                  summary  \\\n",
      "count                                               23231   \n",
      "unique                                              22480   \n",
      "top     with en-suite bathroom, TV, WIFI, bed linen, a...   \n",
      "freq                                                   15   \n",
      "mean                                                  NaN   \n",
      "std                                                   NaN   \n",
      "min                                                   NaN   \n",
      "25%                                                   NaN   \n",
      "50%                                                   NaN   \n",
      "75%                                                   NaN   \n",
      "max                                                   NaN   \n",
      "\n",
      "                                                    space  \\\n",
      "count                                               15834   \n",
      "unique                                              15160   \n",
      "top     The Singer 109 Hostel is located in the heart ...   \n",
      "freq                                                   45   \n",
      "mean                                                  NaN   \n",
      "std                                                   NaN   \n",
      "min                                                   NaN   \n",
      "25%                                                   NaN   \n",
      "50%                                                   NaN   \n",
      "75%                                                   NaN   \n",
      "max                                                   NaN   \n",
      "\n",
      "                                              description experiences_offered  \\\n",
      "count                                               24037               24422   \n",
      "unique                                              23556                   1   \n",
      "top     with en-suite bathroom, TV, WIFI, bed linen, a...                none   \n",
      "freq                                                   10               24422   \n",
      "mean                                                  NaN                 NaN   \n",
      "std                                                   NaN                 NaN   \n",
      "min                                                   NaN                 NaN   \n",
      "25%                                                   NaN                 NaN   \n",
      "50%                                                   NaN                 NaN   \n",
      "75%                                                   NaN                 NaN   \n",
      "max                                                   NaN                 NaN   \n",
      "\n",
      "                                    neighborhood_overview  ...  \\\n",
      "count                                               13550  ...   \n",
      "unique                                              12462  ...   \n",
      "top     Welcome Traveler. The Singer Hostel and  Apart...  ...   \n",
      "freq                                                   49  ...   \n",
      "mean                                                  NaN  ...   \n",
      "std                                                   NaN  ...   \n",
      "min                                                   NaN  ...   \n",
      "25%                                                   NaN  ...   \n",
      "50%                                                   NaN  ...   \n",
      "75%                                                   NaN  ...   \n",
      "max                                                   NaN  ...   \n",
      "\n",
      "       instant_bookable is_business_travel_ready cancellation_policy  \\\n",
      "count             24422                    24422               24421   \n",
      "unique                2                        1                   6   \n",
      "top                   f                        f            flexible   \n",
      "freq              15955                    24422                9623   \n",
      "mean                NaN                      NaN                 NaN   \n",
      "std                 NaN                      NaN                 NaN   \n",
      "min                 NaN                      NaN                 NaN   \n",
      "25%                 NaN                      NaN                 NaN   \n",
      "50%                 NaN                      NaN                 NaN   \n",
      "75%                 NaN                      NaN                 NaN   \n",
      "max                 NaN                      NaN                 NaN   \n",
      "\n",
      "       require_guest_profile_picture require_guest_phone_verification  \\\n",
      "count                          24422                            24422   \n",
      "unique                             2                                2   \n",
      "top                                f                                f   \n",
      "freq                           24264                            24149   \n",
      "mean                             NaN                              NaN   \n",
      "std                              NaN                              NaN   \n",
      "min                              NaN                              NaN   \n",
      "25%                              NaN                              NaN   \n",
      "50%                              NaN                              NaN   \n",
      "75%                              NaN                              NaN   \n",
      "max                              NaN                              NaN   \n",
      "\n",
      "        calculated_host_listings_count  \\\n",
      "count                     24422.000000   \n",
      "unique                             NaN   \n",
      "top                                NaN   \n",
      "freq                               NaN   \n",
      "mean                          2.183851   \n",
      "std                           4.429958   \n",
      "min                           1.000000   \n",
      "25%                           1.000000   \n",
      "50%                           1.000000   \n",
      "75%                           2.000000   \n",
      "max                          49.000000   \n",
      "\n",
      "        calculated_host_listings_count_entire_homes  \\\n",
      "count                                  24422.000000   \n",
      "unique                                          NaN   \n",
      "top                                             NaN   \n",
      "freq                                            NaN   \n",
      "mean                                       1.213660   \n",
      "std                                        3.508495   \n",
      "min                                        0.000000   \n",
      "25%                                        0.000000   \n",
      "50%                                        1.000000   \n",
      "75%                                        1.000000   \n",
      "max                                       46.000000   \n",
      "\n",
      "       calculated_host_listings_count_private_rooms  \\\n",
      "count                                  24422.000000   \n",
      "unique                                          NaN   \n",
      "top                                             NaN   \n",
      "freq                                            NaN   \n",
      "mean                                       0.702154   \n",
      "std                                        1.064434   \n",
      "min                                        0.000000   \n",
      "25%                                        0.000000   \n",
      "50%                                        1.000000   \n",
      "75%                                        1.000000   \n",
      "max                                       12.000000   \n",
      "\n",
      "        calculated_host_listings_count_shared_rooms  reviews_per_month  \n",
      "count                                  24422.000000       20286.000000  \n",
      "unique                                          NaN                NaN  \n",
      "top                                             NaN                NaN  \n",
      "freq                                            NaN                NaN  \n",
      "mean                                       0.135083           1.123973  \n",
      "std                                        2.125533           1.554836  \n",
      "min                                        0.000000           0.010000  \n",
      "25%                                        0.000000           0.150000  \n",
      "50%                                        0.000000           0.510000  \n",
      "75%                                        0.000000           1.480000  \n",
      "max                                       43.000000          39.510000  \n",
      "\n",
      "[11 rows x 106 columns]\n"
     ]
    }
   ],
   "source": [
    "# Describe\n",
    "print(df_listings.describe(include='all'))"
   ]
  },
  {
   "cell_type": "code",
   "execution_count": 14,
   "metadata": {},
   "outputs": [
    {
     "name": "stdout",
     "output_type": "stream",
     "text": [
      "Counts for experiences_offered:  none    24422\n",
      "Name: experiences_offered, dtype: int64\n"
     ]
    }
   ],
   "source": [
    "# Explore Categorical Feature - experiences_offered\n",
    "print('Counts for experiences_offered: ', df_listings['experiences_offered'].value_counts())"
   ]
  },
  {
   "cell_type": "code",
   "execution_count": 15,
   "metadata": {},
   "outputs": [
    {
     "name": "stdout",
     "output_type": "stream",
     "text": [
      "Counts for host_location:  Berlin, Berlin, Germany                                18479\n",
      "DE                                                      2453\n",
      "Germany                                                  397\n",
      "Hamburg, Hamburg, Germany                                110\n",
      "Munich, Bavaria, Germany                                  88\n",
      "Cologne, North Rhine-Westphalia, Germany                  75\n",
      "US                                                        66\n",
      "London, England, United Kingdom                           63\n",
      "Paris, Île-de-France, France                              57\n",
      "Frankfurt, Hesse, Germany                                 51\n",
      "Barcelona, Catalonia, Spain                               48\n",
      "New York, New York, United States                         47\n",
      "Neukölln, Berlin, Germany                                 40\n",
      "London, United Kingdom                                    28\n",
      "Rome, Lazio, Italy                                        27\n",
      "Leipzig, Saxony, Germany                                  26\n",
      "Ravensburg, Baden-Württemberg, Germany                    23\n",
      "Russia                                                    23\n",
      "Vienna, Vienna, Austria                                   22\n",
      "United States                                             22\n",
      "Fort Lauderdale, Florida, United States                   21\n",
      "Potsdam, Brandenburg, Germany                             18\n",
      "GB                                                        18\n",
      "FR                                                        18\n",
      "Munich, Bayern, Germany                                   16\n",
      "Dresden, Saxony, Germany                                  16\n",
      "Amsterdam, North Holland, Netherlands                     16\n",
      "England, United Kingdom                                   16\n",
      "Madrid, Community of Madrid, Spain                        16\n",
      "Melbourne, Victoria, Australia                            15\n",
      "                                                       ...  \n",
      "Weingarten, Baden-Württemberg, Germany                     1\n",
      "CL                                                         1\n",
      "`Afula                                                     1\n",
      "Karlsbad, Baden-Wurttemberg, Germany                       1\n",
      "Abbiategrasso, Lombardia, Italy                            1\n",
      "Belo Horizonte, Minas Gerais, Brazil                       1\n",
      "Khimki, Moscow Oblast, Russia                              1\n",
      "Bottrop, North Rhine-Westphalia, Germany                   1\n",
      "Berlin-karow                                               1\n",
      "Mios, Nouvelle-Aquitaine, France                           1\n",
      "Berkeley, California, United States                        1\n",
      "Shebbear, England, United Kingdom                          1\n",
      "Windhoek, Khomas, Namibia                                  1\n",
      "Frederiksberg, Denmark                                     1\n",
      "Lalli, Tartu County, Estonia                               1\n",
      "El Masnou, Catalunya, Spain                                1\n",
      "Bagnolet, Île-de-France, France                            1\n",
      "Friedberg, Bavaria, Germany                                1\n",
      "London, England, United Kingdom and Berlin, Germany        1\n",
      "San Miguel de Tucuman, Tucumán, Argentina                  1\n",
      "Leiden, Zuid-Holland, Netherlands                          1\n",
      "Biberach, Baden-Württemberg, Germany                       1\n",
      "Weiz, Styria, Austria                                      1\n",
      "Germany                                                    1\n",
      "Trieste, Friuli-Venezia Giulia, Italy                      1\n",
      "Rhineland-Palatinate, Germany                              1\n",
      "Vicenza, Veneto, Italy                                     1\n",
      "Gransee, Brandenburg, Germany                              1\n",
      "Arroyo de la Encomienda, Castilla y León, Spain            1\n",
      "london                                                     1\n",
      "Name: host_location, Length: 1079, dtype: int64\n"
     ]
    }
   ],
   "source": [
    "# Explore Categorical Feature - host_location\n",
    "print('Counts for host_location: ', df_listings['host_location'].value_counts())"
   ]
  },
  {
   "cell_type": "markdown",
   "metadata": {},
   "source": [
    "#### FINDINGS\n",
    "\n",
    "The experiences offered are None for all rows. \n",
    "The host_location column can use some standardization if we are to use it for analysis. For example: \"Berlin / Müggelsdorf\", \"Berlin, Deutschland\" and \"Neukölln, Berlin, Germany\" should be considered as the same. "
   ]
  },
  {
   "cell_type": "code",
   "execution_count": 16,
   "metadata": {},
   "outputs": [
    {
     "data": {
      "image/png": "[encoded data removed]",
      "text/plain": [
       "<Figure size 432x288 with 1 Axes>"
      ]
     },
     "metadata": {
      "needs_background": "light"
     },
     "output_type": "display_data"
    }
   ],
   "source": [
    "# Explore Categorical Feature - host_response_time\n",
    "host_response_vals = df_listings['host_response_time'].value_counts()\n",
    "(host_response_vals/df_listings.shape[0]).plot(kind=\"bar\");\n",
    "plt.title(\"Host Response Times\");"
   ]
  },
  {
   "cell_type": "markdown",
   "metadata": {},
   "source": [
    "#### FINDINGS\n",
    "\n",
    "It looks like a good percentage of hosts respond within an hour."
   ]
  },
  {
   "cell_type": "code",
   "execution_count": 17,
   "metadata": {},
   "outputs": [
    {
     "data": {
      "image/png": "[encoded data removed]",
      "text/plain": [
       "<Figure size 432x288 with 1 Axes>"
      ]
     },
     "metadata": {
      "needs_background": "light"
     },
     "output_type": "display_data"
    }
   ],
   "source": [
    "# Explore Categorical Feature - neighborhood_group_cleansed\n",
    "neigh_vals = df_listings['neighbourhood_group_cleansed'].value_counts()\n",
    "(neigh_vals/df_listings.shape[0]).plot(kind=\"bar\");\n",
    "plt.title(\"Neighbourhood Group Cleansed\");"
   ]
  },
  {
   "cell_type": "code",
   "execution_count": 18,
   "metadata": {
    "scrolled": true
   },
   "outputs": [
    {
     "data": {
      "image/png": "[encoded data removed]",
      "text/plain": [
       "<Figure size 432x288 with 1 Axes>"
      ]
     },
     "metadata": {
      "needs_background": "light"
     },
     "output_type": "display_data"
    }
   ],
   "source": [
    "# Explore Categorical Feature - property_type\n",
    "prop_vals = df_listings['property_type'].value_counts()\n",
    "(prop_vals/df_listings.shape[0]).plot(kind=\"bar\");\n",
    "plt.title(\"Property Type\");"
   ]
  },
  {
   "cell_type": "markdown",
   "metadata": {},
   "source": [
    "#### FINDINGS\n",
    "\n",
    "It's good to know that the apartments dominate the listings data set. We can focus on this if needed for any of our analysis."
   ]
  },
  {
   "cell_type": "markdown",
   "metadata": {},
   "source": [
    "### REVIEWS Data Set\n",
    "\n",
    "Next, let's explore the Reviews data set. We wil be looking at a few things:\n",
    "1. Number of rows and columns in the dataset\n",
    "2. Columns with missing values and columns that have no missing values\n",
    "3. Describe the dataset to see features about each column"
   ]
  },
  {
   "cell_type": "code",
   "execution_count": 19,
   "metadata": {},
   "outputs": [
    {
     "name": "stdout",
     "output_type": "stream",
     "text": [
      "Number of rows and columns:  (501002, 6)\n",
      "listing_id         0\n",
      "id                 0\n",
      "date               0\n",
      "reviewer_id        0\n",
      "reviewer_name      0\n",
      "comments         242\n",
      "dtype: int64\n",
      "          listing_id            id        date   reviewer_id reviewer_name  \\\n",
      "count   5.010020e+05  5.010020e+05      501002  5.010020e+05        501002   \n",
      "unique           NaN           NaN        3141           NaN         61625   \n",
      "top              NaN           NaN  2019-06-02           NaN       Michael   \n",
      "freq             NaN           NaN        1283           NaN          3340   \n",
      "mean    1.291820e+07  2.638157e+08         NaN  7.507297e+07           NaN   \n",
      "std     1.002893e+07  1.558552e+08         NaN  7.211280e+07           NaN   \n",
      "min     1.944000e+03  4.283000e+03         NaN  3.190000e+02           NaN   \n",
      "25%     3.485841e+06  1.306522e+08         NaN  1.706364e+07           NaN   \n",
      "50%     1.189906e+07  2.619161e+08         NaN  4.764211e+07           NaN   \n",
      "75%     2.044847e+07  4.132042e+08         NaN  1.186202e+08           NaN   \n",
      "max     3.872391e+07  5.322665e+08         NaN  2.960384e+08           NaN   \n",
      "\n",
      "                                                 comments  \n",
      "count                                              500760  \n",
      "unique                                             484409  \n",
      "top     The host canceled this reservation 2 days befo...  \n",
      "freq                                                  571  \n",
      "mean                                                  NaN  \n",
      "std                                                   NaN  \n",
      "min                                                   NaN  \n",
      "25%                                                   NaN  \n",
      "50%                                                   NaN  \n",
      "75%                                                   NaN  \n",
      "max                                                   NaN  \n"
     ]
    }
   ],
   "source": [
    "# Print rows and columns in reviews data set\n",
    "print(\"Number of rows and columns: \", df_reviews.shape)\n",
    "# Assess null values\n",
    "print(df_reviews.isnull().sum())\n",
    "# Describe\n",
    "print(df_reviews.describe(include='all'))"
   ]
  },
  {
   "cell_type": "markdown",
   "metadata": {},
   "source": [
    "## 3. DATA PREPARATION\n",
    "\n",
    "\n",
    "### Question 1 - PRICE ANALYSIS\n",
    "\n",
    "**1.** Understand price increases/decreases by season and detect peak season in Berlin <br>\n",
    "**2.** Understand price increases/decreases by neighborhood and detect pricey neighborhoods in Berlin <br>\n",
    "**3.** Understand how property types within neighborhoods impact price for a handful of neighborhoods and property types"
   ]
  },
  {
   "cell_type": "code",
   "execution_count": 20,
   "metadata": {},
   "outputs": [
    {
     "data": {
      "image/png": "[encoded data removed]",
      "text/plain": [
       "<Figure size 1080x720 with 1 Axes>"
      ]
     },
     "metadata": {
      "needs_background": "light"
     },
     "output_type": "display_data"
    }
   ],
   "source": [
    "# Plot the average price by month \n",
    "df_calendar['year'] = pd.DatetimeIndex(df_calendar['date']).year\n",
    "df_calendar['month'] = pd.DatetimeIndex(df_calendar['date']).month\n",
    "\n",
    "# In order to average price, we will be converting it to float and removing the $ sign\n",
    "df_calendar['price'] = df_calendar['price'].replace('[\\$,]', '', regex=True).astype(float)\n",
    "\n",
    "df_calendar.groupby(['year','month'])[['price']].mean().plot(kind=\"bar\",figsize=(15,10));"
   ]
  },
  {
   "cell_type": "markdown",
   "metadata": {},
   "source": [
    "#### FINDINGS\n",
    "\n",
    "Based on the above chart, it shows that September is the peak month. A quick Google search (https://travel.usnews.com/Berlin_Germany/When_To_Visit/) confirms my assumption that September have the best weather in Berlin.\n",
    "\n",
    "Also, it seems like the average price is more or less the same."
   ]
  },
  {
   "cell_type": "code",
   "execution_count": 21,
   "metadata": {},
   "outputs": [
    {
     "name": "stdout",
     "output_type": "stream",
     "text": [
      "                                                price\n",
      "neighbourhood_cleansed                               \n",
      "Forst Grunewald                            400.000000\n",
      "Volkspark Wilmersdorf                      345.891509\n",
      "Allende-Viertel                            185.600000\n",
      "Schöneberg-Nord                            170.172291\n",
      "Frankfurter Allee Süd                      164.951220\n",
      "Marzahn-Nord                               146.750000\n",
      "Haselhorst                                 140.000000\n",
      "Alexanderplatz                             133.815557\n",
      "Regierungsviertel                          122.625000\n",
      "Düsseldorfer Straße                        118.037634\n",
      "Rummelsburger Bucht                        107.530612\n",
      "Kurfürstendamm                             106.605263\n",
      "Weißensee                                   98.952607\n",
      "Schmöckwitz/Karolinenhof/Rauchfangswerder   97.375000\n",
      "Zehlendorf  Südwest                         93.714286\n",
      "Müggelheim                                  92.636364\n",
      "West 1                                      91.750000\n",
      "Neue Kantstraße                             91.660819\n",
      "Tiergarten Süd                              91.377778\n",
      "Halensee                                    90.263736\n",
      "Rahnsdorf/Hessenwinkel                      87.875000\n",
      "Brunnenstr. Süd                             87.490613\n",
      "Charlottenburg Nord                         86.150000\n",
      "Köpenick-Süd                                82.166667\n",
      "Helmholtzplatz                              81.670082\n",
      "Prenzlauer Berg Südwest                     81.363200\n",
      "Alt-Hohenschönhausen Nord                   78.909091\n",
      "Südliche Friedrichstadt                     78.444444\n",
      "Kantstraße                                  78.149068\n",
      "Spandau Mitte                               78.037037\n",
      "...                                               ...\n",
      "Köpenick-Nord                               46.400000\n",
      "Rixdorf                                     45.989142\n",
      "Parkviertel                                 45.744063\n",
      "Oberschöneweide                             45.694915\n",
      "Buckow Nord                                 45.666667\n",
      "Neu Lichtenberg                             45.524000\n",
      "Osloer Straße                               45.166227\n",
      "Niederschöneweide                           44.730769\n",
      "West 2                                      44.500000\n",
      "Mierendorffplatz                            44.431579\n",
      "Johannisthal                                44.285714\n",
      "Ost 2                                       44.185714\n",
      "West 3                                      44.045455\n",
      "Friedrichsfelde Nord                        44.000000\n",
      "Adlershof                                   43.833333\n",
      "West 5                                      43.285714\n",
      "Baumschulenweg                              41.620690\n",
      "Ost 1                                       40.724138\n",
      "Siemensstadt                                39.000000\n",
      "Neu-Hohenschönhausen Nord                   38.666667\n",
      "MV 2                                        38.600000\n",
      "West 4                                      36.075000\n",
      "Brunsbütteler Damm                          35.000000\n",
      "Hellersdorf-Nord                            35.000000\n",
      "Gropiusstadt                                34.928571\n",
      "Lankwitz                                    34.806452\n",
      "Marzahn-Mitte                               30.400000\n",
      "Friedrichsfelde Süd                         29.885714\n",
      "Hellersdorf-Süd                             28.000000\n",
      "Neu-Hohenschönhausen Süd                    19.500000\n",
      "\n",
      "[138 rows x 1 columns]\n"
     ]
    },
    {
     "data": {
      "image/png": "[encoded data removed]",
      "text/plain": [
       "<Figure size 1440x720 with 1 Axes>"
      ]
     },
     "metadata": {
      "needs_background": "light"
     },
     "output_type": "display_data"
    }
   ],
   "source": [
    "# Plot the average price by neighborhood\n",
    "\n",
    "# In order to average price, we will be converting it to float and removing the $ sign\n",
    "df_listings['price'] = df_listings['price'].replace('[\\$,]', '', regex=True).astype(float)\n",
    "\n",
    "print(df_listings.groupby(['neighbourhood_cleansed'])[['price']].mean().sort_values(by='price',ascending=False))\n",
    "df_listings.groupby(['neighbourhood_cleansed'])[['price']].mean().plot(figsize=(20,10));\n"
   ]
  },
  {
   "cell_type": "code",
   "execution_count": 22,
   "metadata": {},
   "outputs": [
    {
     "data": {
      "image/png": "[encoded data removed]",
      "text/plain": [
       "<Figure size 432x288 with 1 Axes>"
      ]
     },
     "metadata": {
      "needs_background": "light"
     },
     "output_type": "display_data"
    }
   ],
   "source": [
    "# Plot top 10 neighborhoods\n",
    "top10_neigh = df_listings.groupby(['neighbourhood_cleansed'])[['price']].mean().sort_values(by='price',ascending=False).head()\n",
    "top10_neigh.plot(kind='bar');"
   ]
  },
  {
   "cell_type": "code",
   "execution_count": 23,
   "metadata": {},
   "outputs": [
    {
     "data": {
      "image/png": "[encoded data removed]",
      "text/plain": [
       "<Figure size 432x288 with 1 Axes>"
      ]
     },
     "metadata": {
      "needs_background": "light"
     },
     "output_type": "display_data"
    }
   ],
   "source": [
    "# Plot bottom 10 neighborhoods\n",
    "bottom10_neigh = df_listings.groupby(['neighbourhood_cleansed'])[['price']].mean().sort_values(by='price',ascending=False).tail()\n",
    "bottom10_neigh.plot(kind='bar');"
   ]
  },
  {
   "cell_type": "markdown",
   "metadata": {},
   "source": [
    "#### FINDINGS\n",
    "\n",
    "Based on the above analysis, there is definitely price fluctuations based on neighborhoods. The Forst Grunewald seems like the priciest of all, averaging at $400.\n",
    "\n",
    "Followed by Volkspark Wilmersdorf at $346.\n",
    "\n",
    "Neu-Hohenschönhausen seems like the cheapest at $18.5 average price.\n"
   ]
  },
  {
   "cell_type": "code",
   "execution_count": 24,
   "metadata": {},
   "outputs": [
    {
     "data": {
      "text/html": [
       "<div>\n",
       "<style scoped>\n",
       "    .dataframe tbody tr th:only-of-type {\n",
       "        vertical-align: middle;\n",
       "    }\n",
       "\n",
       "    .dataframe tbody tr th {\n",
       "        vertical-align: top;\n",
       "    }\n",
       "\n",
       "    .dataframe thead th {\n",
       "        text-align: right;\n",
       "    }\n",
       "</style>\n",
       "<table border=\"1\" class=\"dataframe\">\n",
       "  <thead>\n",
       "    <tr style=\"text-align: right;\">\n",
       "      <th></th>\n",
       "      <th>neighbourhood_cleansed</th>\n",
       "      <th>property_type</th>\n",
       "      <th>price</th>\n",
       "    </tr>\n",
       "  </thead>\n",
       "  <tbody>\n",
       "    <tr>\n",
       "      <th>0</th>\n",
       "      <td>Alexanderplatz</td>\n",
       "      <td>Apartment</td>\n",
       "      <td>87.503968</td>\n",
       "    </tr>\n",
       "    <tr>\n",
       "      <th>1</th>\n",
       "      <td>Alexanderplatz</td>\n",
       "      <td>Condominium</td>\n",
       "      <td>107.634146</td>\n",
       "    </tr>\n",
       "    <tr>\n",
       "      <th>2</th>\n",
       "      <td>Frankfurter Allee Süd</td>\n",
       "      <td>Apartment</td>\n",
       "      <td>179.805556</td>\n",
       "    </tr>\n",
       "    <tr>\n",
       "      <th>3</th>\n",
       "      <td>Frankfurter Allee Süd</td>\n",
       "      <td>Condominium</td>\n",
       "      <td>16.000000</td>\n",
       "    </tr>\n",
       "    <tr>\n",
       "      <th>4</th>\n",
       "      <td>Regierungsviertel</td>\n",
       "      <td>Apartment</td>\n",
       "      <td>116.989744</td>\n",
       "    </tr>\n",
       "    <tr>\n",
       "      <th>5</th>\n",
       "      <td>Regierungsviertel</td>\n",
       "      <td>Condominium</td>\n",
       "      <td>81.777778</td>\n",
       "    </tr>\n",
       "    <tr>\n",
       "      <th>6</th>\n",
       "      <td>Schöneberg-Nord</td>\n",
       "      <td>Apartment</td>\n",
       "      <td>61.329980</td>\n",
       "    </tr>\n",
       "    <tr>\n",
       "      <th>7</th>\n",
       "      <td>Schöneberg-Nord</td>\n",
       "      <td>Condominium</td>\n",
       "      <td>72.125000</td>\n",
       "    </tr>\n",
       "    <tr>\n",
       "      <th>8</th>\n",
       "      <td>Volkspark Wilmersdorf</td>\n",
       "      <td>Apartment</td>\n",
       "      <td>66.251397</td>\n",
       "    </tr>\n",
       "    <tr>\n",
       "      <th>9</th>\n",
       "      <td>Volkspark Wilmersdorf</td>\n",
       "      <td>Condominium</td>\n",
       "      <td>45.000000</td>\n",
       "    </tr>\n",
       "  </tbody>\n",
       "</table>\n",
       "</div>"
      ],
      "text/plain": [
       "  neighbourhood_cleansed property_type       price\n",
       "0         Alexanderplatz     Apartment   87.503968\n",
       "1         Alexanderplatz   Condominium  107.634146\n",
       "2  Frankfurter Allee Süd     Apartment  179.805556\n",
       "3  Frankfurter Allee Süd   Condominium   16.000000\n",
       "4      Regierungsviertel     Apartment  116.989744\n",
       "5      Regierungsviertel   Condominium   81.777778\n",
       "6        Schöneberg-Nord     Apartment   61.329980\n",
       "7        Schöneberg-Nord   Condominium   72.125000\n",
       "8  Volkspark Wilmersdorf     Apartment   66.251397\n",
       "9  Volkspark Wilmersdorf   Condominium   45.000000"
      ]
     },
     "execution_count": 24,
     "metadata": {},
     "output_type": "execute_result"
    }
   ],
   "source": [
    "# Explore property types within neighborhoods and how they impact price\n",
    "# Focus on the top 5 expensive Neighborhoods from above - Forst Grunewald','Volkspark Wilmersdorf','Allende-Viertel','Schöneberg-Nord','Frankfurter Allee Süd'\n",
    "# Focus on property type: Apartment\n",
    "\n",
    "values_keep_neigh = ('Regierungsviertel','Volkspark Wilmersdorf','Alexanderplatz','Schöneberg-Nord','Frankfurter Allee Süd')\n",
    "values_keep_prop = ('Apartment','Condominium')\n",
    "df_listings_pruned1 = df_listings.loc[df_listings['neighbourhood_cleansed'].isin(values_keep_neigh)]\n",
    "df_listings_pruned2 = df_listings_pruned1.loc[df_listings['property_type'].isin(values_keep_prop)]\n",
    "\n",
    "df_neigh_prop = df_listings_pruned2.groupby(['neighbourhood_cleansed','property_type'])[['price']].mean().reset_index()\n",
    "df_neigh_prop"
   ]
  },
  {
   "cell_type": "code",
   "execution_count": 25,
   "metadata": {},
   "outputs": [
    {
     "data": {
      "text/plain": [
       "(5, 2)"
      ]
     },
     "execution_count": 25,
     "metadata": {},
     "output_type": "execute_result"
    }
   ],
   "source": [
    "price_arr = df_neigh_prop['price'].values\n",
    "price_arr = np.reshape(price_arr, (5,2))\n",
    "price_arr.shape\n"
   ]
  },
  {
   "cell_type": "code",
   "execution_count": 26,
   "metadata": {},
   "outputs": [
    {
     "data": {
      "image/png": "[encoded data removed]",
      "text/plain": [
       "<Figure size 432x288 with 2 Axes>"
      ]
     },
     "metadata": {
      "needs_background": "light"
     },
     "output_type": "display_data"
    }
   ],
   "source": [
    "\n",
    "idx = ['Regierungsviertel','Volkspark Wilmersdorf','Alexanderplatz','Schöneberg-Nord','Frankfurter Allee Süd']\n",
    "cols = ['Apartment','Condominium']\n",
    "df = pd.DataFrame(price_arr, index=idx, columns=cols)\n",
    "\n",
    "# _r reverses the normal order of the color map 'RdYlGn'\n",
    "sns.heatmap(df, cmap='RdYlGn_r', linewidths=0.5, annot=True);"
   ]
  },
  {
   "cell_type": "markdown",
   "metadata": {},
   "source": [
    "#### FINDINGS\n",
    "\n",
    "I focused on the top 5 expensive neighbourhoods that offer apartments and condominiums as they make up a good percentage of the property types.\n",
    "\n",
    "Based on the above, we can see that apartments in Volkspark Wilmersdorf are the most expensive followed by the apartments in Alexanderplatz and condominiums in Regierungsviertel. It is interesting to note that in Volkspark Wilmersdorf have both the highest and the lowest price. \n"
   ]
  },
  {
   "cell_type": "markdown",
   "metadata": {},
   "source": [
    "### Question 2 - SENTIMENT ANALYSIS OF REVIEWS\n",
    "\n",
    "**1.** Understand positive and negative sentiments from review comments <br>\n",
    "**2.** Map the positive and negative sentiments to neighborhoods to understand which neighborhoonds rank higher on the positive sentiment scale and which ones rank higher on the negative sentiment scale <br>\n",
    "**3.** Explore some of the worst reviews"
   ]
  },
  {
   "cell_type": "code",
   "execution_count": 27,
   "metadata": {},
   "outputs": [
    {
     "data": {
      "text/html": [
       "<div>\n",
       "<style scoped>\n",
       "    .dataframe tbody tr th:only-of-type {\n",
       "        vertical-align: middle;\n",
       "    }\n",
       "\n",
       "    .dataframe tbody tr th {\n",
       "        vertical-align: top;\n",
       "    }\n",
       "\n",
       "    .dataframe thead th {\n",
       "        text-align: right;\n",
       "    }\n",
       "</style>\n",
       "<table border=\"1\" class=\"dataframe\">\n",
       "  <thead>\n",
       "    <tr style=\"text-align: right;\">\n",
       "      <th></th>\n",
       "      <th>listing_id</th>\n",
       "      <th>comments</th>\n",
       "    </tr>\n",
       "  </thead>\n",
       "  <tbody>\n",
       "    <tr>\n",
       "      <th>0</th>\n",
       "      <td>1944</td>\n",
       "      <td>I want to thank Laura&amp;Emiliano for their hospi...</td>\n",
       "    </tr>\n",
       "    <tr>\n",
       "      <th>1</th>\n",
       "      <td>1944</td>\n",
       "      <td>Very convenient  and very quiet. You will stay...</td>\n",
       "    </tr>\n",
       "    <tr>\n",
       "      <th>2</th>\n",
       "      <td>1944</td>\n",
       "      <td>I've spent 2 nights at place of Laura and Emil...</td>\n",
       "    </tr>\n",
       "    <tr>\n",
       "      <th>3</th>\n",
       "      <td>1944</td>\n",
       "      <td>The reservation was canceled 2 days before arr...</td>\n",
       "    </tr>\n",
       "    <tr>\n",
       "      <th>4</th>\n",
       "      <td>1944</td>\n",
       "      <td>Laura est très sympathique et l'appartement fa...</td>\n",
       "    </tr>\n",
       "  </tbody>\n",
       "</table>\n",
       "</div>"
      ],
      "text/plain": [
       "   listing_id                                           comments\n",
       "0        1944  I want to thank Laura&Emiliano for their hospi...\n",
       "1        1944  Very convenient  and very quiet. You will stay...\n",
       "2        1944  I've spent 2 nights at place of Laura and Emil...\n",
       "3        1944  The reservation was canceled 2 days before arr...\n",
       "4        1944  Laura est très sympathique et l'appartement fa..."
      ]
     },
     "execution_count": 27,
     "metadata": {},
     "output_type": "execute_result"
    }
   ],
   "source": [
    "# Create a smaller data frame with just listing ids and review comments\n",
    "df_comments = df_reviews[['listing_id', 'comments']].copy()\n",
    "df_comments.head()"
   ]
  },
  {
   "cell_type": "code",
   "execution_count": 28,
   "metadata": {},
   "outputs": [
    {
     "data": {
      "text/plain": [
       "'Brunnenstr. Nord'"
      ]
     },
     "execution_count": 28,
     "metadata": {},
     "output_type": "execute_result"
    }
   ],
   "source": [
    "# Function to take a listing id and pass back the neighbourhood_cleansed field from the listings data set\n",
    "# Initially, I tried with the neighbourhood field in the listings dataset, but found that some values were blank, so I used neighbourhood_cleansed field\n",
    "def get_neighborhood(listing_id):\n",
    "    '''\n",
    "    Function to take a listing id and pass back the neighbourhood_cleansed field from the listings data set\n",
    "    INPUT:\n",
    "    listing_id - listing_id field for a particular listing\n",
    "    OUTPUT:\n",
    "    neighbourhood - the neighbourhood_cleansed field associated with a particular listing_id\n",
    "    \n",
    "    Helps to map each listing_id to it's respective neighbourhood in order to associate reviews with neighbourhoods\n",
    "    '''\n",
    "    neighbourhood = df_listings.loc[df_listings['id'] == listing_id, 'neighbourhood_cleansed'].iloc[0]\n",
    "    return neighbourhood\n",
    "\n",
    "# Test function\n",
    "get_neighborhood(1944)"
   ]
  },
  {
   "cell_type": "code",
   "execution_count": 29,
   "metadata": {},
   "outputs": [
    {
     "data": {
      "text/html": [
       "<div>\n",
       "<style scoped>\n",
       "    .dataframe tbody tr th:only-of-type {\n",
       "        vertical-align: middle;\n",
       "    }\n",
       "\n",
       "    .dataframe tbody tr th {\n",
       "        vertical-align: top;\n",
       "    }\n",
       "\n",
       "    .dataframe thead th {\n",
       "        text-align: right;\n",
       "    }\n",
       "</style>\n",
       "<table border=\"1\" class=\"dataframe\">\n",
       "  <thead>\n",
       "    <tr style=\"text-align: right;\">\n",
       "      <th></th>\n",
       "      <th>listing_id</th>\n",
       "      <th>comments</th>\n",
       "      <th>neighbourhood</th>\n",
       "    </tr>\n",
       "  </thead>\n",
       "  <tbody>\n",
       "    <tr>\n",
       "      <th>0</th>\n",
       "      <td>1944</td>\n",
       "      <td>I want to thank Laura&amp;Emiliano for their hospi...</td>\n",
       "      <td>Brunnenstr. Nord</td>\n",
       "    </tr>\n",
       "    <tr>\n",
       "      <th>1</th>\n",
       "      <td>1944</td>\n",
       "      <td>Very convenient  and very quiet. You will stay...</td>\n",
       "      <td>Brunnenstr. Nord</td>\n",
       "    </tr>\n",
       "    <tr>\n",
       "      <th>2</th>\n",
       "      <td>1944</td>\n",
       "      <td>I've spent 2 nights at place of Laura and Emil...</td>\n",
       "      <td>Brunnenstr. Nord</td>\n",
       "    </tr>\n",
       "    <tr>\n",
       "      <th>3</th>\n",
       "      <td>1944</td>\n",
       "      <td>The reservation was canceled 2 days before arr...</td>\n",
       "      <td>Brunnenstr. Nord</td>\n",
       "    </tr>\n",
       "    <tr>\n",
       "      <th>4</th>\n",
       "      <td>1944</td>\n",
       "      <td>Laura est très sympathique et l'appartement fa...</td>\n",
       "      <td>Brunnenstr. Nord</td>\n",
       "    </tr>\n",
       "  </tbody>\n",
       "</table>\n",
       "</div>"
      ],
      "text/plain": [
       "   listing_id                                           comments  \\\n",
       "0        1944  I want to thank Laura&Emiliano for their hospi...   \n",
       "1        1944  Very convenient  and very quiet. You will stay...   \n",
       "2        1944  I've spent 2 nights at place of Laura and Emil...   \n",
       "3        1944  The reservation was canceled 2 days before arr...   \n",
       "4        1944  Laura est très sympathique et l'appartement fa...   \n",
       "\n",
       "      neighbourhood  \n",
       "0  Brunnenstr. Nord  \n",
       "1  Brunnenstr. Nord  \n",
       "2  Brunnenstr. Nord  \n",
       "3  Brunnenstr. Nord  \n",
       "4  Brunnenstr. Nord  "
      ]
     },
     "execution_count": 29,
     "metadata": {},
     "output_type": "execute_result"
    }
   ],
   "source": [
    "# Apply get_neighborhood function to the listing ids\n",
    "df_comments['neighbourhood'] = df_comments['listing_id'].apply(get_neighborhood)\n",
    "df_comments.head()"
   ]
  },
  {
   "cell_type": "code",
   "execution_count": 30,
   "metadata": {},
   "outputs": [
    {
     "data": {
      "text/plain": [
       "0"
      ]
     },
     "execution_count": 30,
     "metadata": {},
     "output_type": "execute_result"
    }
   ],
   "source": [
    "# Check to see if any listing ids don't have neighborhoods associated\n",
    "df_comments['neighbourhood'].isnull().sum()"
   ]
  },
  {
   "cell_type": "code",
   "execution_count": 31,
   "metadata": {},
   "outputs": [
    {
     "data": {
      "text/html": [
       "<div>\n",
       "<style scoped>\n",
       "    .dataframe tbody tr th:only-of-type {\n",
       "        vertical-align: middle;\n",
       "    }\n",
       "\n",
       "    .dataframe tbody tr th {\n",
       "        vertical-align: top;\n",
       "    }\n",
       "\n",
       "    .dataframe thead th {\n",
       "        text-align: right;\n",
       "    }\n",
       "</style>\n",
       "<table border=\"1\" class=\"dataframe\">\n",
       "  <thead>\n",
       "    <tr style=\"text-align: right;\">\n",
       "      <th></th>\n",
       "      <th>listing_id</th>\n",
       "      <th>comments</th>\n",
       "      <th>neighbourhood</th>\n",
       "      <th>polarity_score</th>\n",
       "    </tr>\n",
       "  </thead>\n",
       "  <tbody>\n",
       "    <tr>\n",
       "      <th>0</th>\n",
       "      <td>1944</td>\n",
       "      <td>I want to thank Laura&amp;Emiliano for their hospi...</td>\n",
       "      <td>Brunnenstr. Nord</td>\n",
       "      <td>0.8689</td>\n",
       "    </tr>\n",
       "    <tr>\n",
       "      <th>1</th>\n",
       "      <td>1944</td>\n",
       "      <td>Very convenient  and very quiet. You will stay...</td>\n",
       "      <td>Brunnenstr. Nord</td>\n",
       "      <td>0.9107</td>\n",
       "    </tr>\n",
       "    <tr>\n",
       "      <th>2</th>\n",
       "      <td>1944</td>\n",
       "      <td>I've spent 2 nights at place of Laura and Emil...</td>\n",
       "      <td>Brunnenstr. Nord</td>\n",
       "      <td>0.9767</td>\n",
       "    </tr>\n",
       "    <tr>\n",
       "      <th>3</th>\n",
       "      <td>1944</td>\n",
       "      <td>The reservation was canceled 2 days before arr...</td>\n",
       "      <td>Brunnenstr. Nord</td>\n",
       "      <td>0.0000</td>\n",
       "    </tr>\n",
       "    <tr>\n",
       "      <th>4</th>\n",
       "      <td>1944</td>\n",
       "      <td>Laura est très sympathique et l'appartement fa...</td>\n",
       "      <td>Brunnenstr. Nord</td>\n",
       "      <td>0.0000</td>\n",
       "    </tr>\n",
       "  </tbody>\n",
       "</table>\n",
       "</div>"
      ],
      "text/plain": [
       "   listing_id                                           comments  \\\n",
       "0        1944  I want to thank Laura&Emiliano for their hospi...   \n",
       "1        1944  Very convenient  and very quiet. You will stay...   \n",
       "2        1944  I've spent 2 nights at place of Laura and Emil...   \n",
       "3        1944  The reservation was canceled 2 days before arr...   \n",
       "4        1944  Laura est très sympathique et l'appartement fa...   \n",
       "\n",
       "      neighbourhood  polarity_score  \n",
       "0  Brunnenstr. Nord          0.8689  \n",
       "1  Brunnenstr. Nord          0.9107  \n",
       "2  Brunnenstr. Nord          0.9767  \n",
       "3  Brunnenstr. Nord          0.0000  \n",
       "4  Brunnenstr. Nord          0.0000  "
      ]
     },
     "execution_count": 31,
     "metadata": {},
     "output_type": "execute_result"
    }
   ],
   "source": [
    "# SentimentIntensityAnalyzer reference: https://medium.com/analytics-vidhya/simplifying-social-media-sentiment-analysis-using-vader-in-python-f9e6ec6fc52f\n",
    "\n",
    "analyser = SentimentIntensityAnalyzer()\n",
    "\n",
    "def sentiment_analyzer_scores(sentence):\n",
    "    '''\n",
    "    Function to run sentiment intensity analyzer on a sentence and return compound polarity score\n",
    "    INPUT:\n",
    "    sentence - the text of the review comments \n",
    "    OUTPUT:\n",
    "    score['compound'] - the compound score combining the positive, negative and neutral scores\n",
    "    \n",
    "    Provides the compound score for a particular sentence for sentiment analysis\n",
    "    '''\n",
    "    sentence = str(sentence)\n",
    "    score = analyser.polarity_scores(sentence)\n",
    "    return score['compound']\n",
    "\n",
    "\n",
    "df_comments['polarity_score'] = df_comments['comments'].apply(sentiment_analyzer_scores)\n",
    "df_comments.head()"
   ]
  },
  {
   "cell_type": "code",
   "execution_count": 32,
   "metadata": {},
   "outputs": [
    {
     "name": "stdout",
     "output_type": "stream",
     "text": [
      "Positive compound scores:  358619\n",
      "Negative compound scores:  66501\n",
      "Neutral compound scores:  75882\n"
     ]
    }
   ],
   "source": [
    "# Print number of positive, negative and neutral compound polarity scores\n",
    "print('Positive compound scores: ',df_comments['polarity_score'][df_comments['polarity_score'] > 0].count())\n",
    "print('Negative compound scores: ',df_comments['polarity_score'][df_comments['polarity_score'] < 0].count())\n",
    "print('Neutral compound scores: ',df_comments['polarity_score'][df_comments['polarity_score'] == 0].count())\n"
   ]
  },
  {
   "cell_type": "code",
   "execution_count": 33,
   "metadata": {},
   "outputs": [],
   "source": [
    "# Group by neighbourhood and average the polarity scores\n",
    "neigh_polarity = df_comments.groupby('neighbourhood')[['polarity_score']].mean().sort_values(by='polarity_score',ascending=False)"
   ]
  },
  {
   "cell_type": "code",
   "execution_count": 34,
   "metadata": {},
   "outputs": [
    {
     "name": "stdout",
     "output_type": "stream",
     "text": [
      "                         polarity_score\n",
      "neighbourhood                          \n",
      "südliche Luisenstadt           0.642995\n",
      "Reuterstraße                   0.626197\n",
      "nördliche Luisenstadt          0.622501\n",
      "Tempelhofer Vorstadt           0.589765\n",
      "Regierungsviertel              0.586320\n",
      "Südliche Friedrichstadt        0.586009\n",
      "Prenzlauer Berg Südwest        0.579809\n",
      "Brunnenstr. Süd                0.578151\n",
      "Schillerpromenade              0.568751\n",
      "Alexanderplatz                 0.563578\n"
     ]
    },
    {
     "data": {
      "image/png": "[encoded data removed]",
      "text/plain": [
       "<Figure size 432x288 with 1 Axes>"
      ]
     },
     "metadata": {
      "needs_background": "light"
     },
     "output_type": "display_data"
    }
   ],
   "source": [
    "# Visualize top neighborhoods based on reviews\n",
    "print(neigh_polarity.head(10))\n",
    "neigh_polarity.head(10).plot(kind='bar');\n"
   ]
  },
  {
   "cell_type": "code",
   "execution_count": 35,
   "metadata": {},
   "outputs": [
    {
     "name": "stdout",
     "output_type": "stream",
     "text": [
      "                                           polarity_score\n",
      "neighbourhood                                            \n",
      "Allende-Viertel                                  0.099242\n",
      "Kölln. Vorstadt/Spindlersf.                      0.075553\n",
      "Friedrichshagen                                  0.073867\n",
      "Köpenick-Süd                                     0.035524\n",
      "Gatow / Kladow                                   0.023572\n",
      "Schmöckwitz/Karolinenhof/Rauchfangswerder        0.018410\n",
      "Rahnsdorf/Hessenwinkel                           0.011096\n",
      "Hakenfelde                                       0.005371\n",
      "Hellersdorf-Ost                                 -0.007917\n",
      "Altstadt-Kietz                                  -0.026074\n"
     ]
    },
    {
     "data": {
      "image/png": "[encoded data removed]",
      "text/plain": [
       "<Figure size 432x288 with 1 Axes>"
      ]
     },
     "metadata": {
      "needs_background": "light"
     },
     "output_type": "display_data"
    }
   ],
   "source": [
    "# Visualize bottom 10 neighborhoods based on reviews\n",
    "print(neigh_polarity.tail(10))\n",
    "neigh_polarity.tail(10).plot(kind='bar');"
   ]
  },
  {
   "cell_type": "markdown",
   "metadata": {},
   "source": [
    "#### FINDINGS\n",
    "\n",
    "südliche Luisenstadt, Reuterstraße and nördliche Luisenstadt are some of the neighborhoods that have top reviews. Relatively, the lower ranking neighborhoods are Altstadt-Kietz, Hellersdorf-Ost and Hakenfelde "
   ]
  },
  {
   "cell_type": "code",
   "execution_count": 36,
   "metadata": {},
   "outputs": [
    {
     "data": {
      "text/html": [
       "<div>\n",
       "<style scoped>\n",
       "    .dataframe tbody tr th:only-of-type {\n",
       "        vertical-align: middle;\n",
       "    }\n",
       "\n",
       "    .dataframe tbody tr th {\n",
       "        vertical-align: top;\n",
       "    }\n",
       "\n",
       "    .dataframe thead th {\n",
       "        text-align: right;\n",
       "    }\n",
       "</style>\n",
       "<table border=\"1\" class=\"dataframe\">\n",
       "  <thead>\n",
       "    <tr style=\"text-align: right;\">\n",
       "      <th></th>\n",
       "      <th>listing_id</th>\n",
       "      <th>comments</th>\n",
       "      <th>neighbourhood</th>\n",
       "      <th>polarity_score</th>\n",
       "    </tr>\n",
       "  </thead>\n",
       "  <tbody>\n",
       "    <tr>\n",
       "      <th>240215</th>\n",
       "      <td>11294127</td>\n",
       "      <td>Der Aufenthalt bei Myriam u. Mathis war toll. ...</td>\n",
       "      <td>Buckow</td>\n",
       "      <td>-0.9980</td>\n",
       "    </tr>\n",
       "    <tr>\n",
       "      <th>341017</th>\n",
       "      <td>18044136</td>\n",
       "      <td>Die Wohnung hat eigentlich eine Bewertung von ...</td>\n",
       "      <td>Schöneberg-Süd</td>\n",
       "      <td>-0.9980</td>\n",
       "    </tr>\n",
       "    <tr>\n",
       "      <th>72243</th>\n",
       "      <td>1234638</td>\n",
       "      <td>Die Ankuft in der Wohnung war gut. Wir wurden ...</td>\n",
       "      <td>Frankfurter Allee Nord</td>\n",
       "      <td>-0.9981</td>\n",
       "    </tr>\n",
       "    <tr>\n",
       "      <th>299340</th>\n",
       "      <td>15369165</td>\n",
       "      <td>ICH WARNE ALLE INTERESSENTEN DRINGEND VOR DIES...</td>\n",
       "      <td>Heerstraße Nord</td>\n",
       "      <td>-0.9982</td>\n",
       "    </tr>\n",
       "    <tr>\n",
       "      <th>137639</th>\n",
       "      <td>4150220</td>\n",
       "      <td>Zunächst möchte ich sagen, dass ich eine sehr ...</td>\n",
       "      <td>Frankfurter Allee Süd FK</td>\n",
       "      <td>-0.9982</td>\n",
       "    </tr>\n",
       "    <tr>\n",
       "      <th>494560</th>\n",
       "      <td>35090506</td>\n",
       "      <td>Handtücher, Bettwäsche, Möbel etc. in Ordnung....</td>\n",
       "      <td>Prenzlauer Berg Ost</td>\n",
       "      <td>-0.9983</td>\n",
       "    </tr>\n",
       "    <tr>\n",
       "      <th>240207</th>\n",
       "      <td>11294127</td>\n",
       "      <td>Die Begrüßung der Hausherrin war wenig herzlic...</td>\n",
       "      <td>Buckow</td>\n",
       "      <td>-0.9985</td>\n",
       "    </tr>\n",
       "    <tr>\n",
       "      <th>29515</th>\n",
       "      <td>322520</td>\n",
       "      <td>Die Schlüsselübergabe funktionierte bei uns pe...</td>\n",
       "      <td>Prenzlauer Berg Nord</td>\n",
       "      <td>-0.9985</td>\n",
       "    </tr>\n",
       "    <tr>\n",
       "      <th>462810</th>\n",
       "      <td>29069957</td>\n",
       "      <td>SCHREKLICHE ERFAHRUNG: (Spanish version below)...</td>\n",
       "      <td>Wedding Zentrum</td>\n",
       "      <td>-0.9985</td>\n",
       "    </tr>\n",
       "    <tr>\n",
       "      <th>111824</th>\n",
       "      <td>2697520</td>\n",
       "      <td>Sehr schöne Wohnung, tolle Ausstattung – Wir h...</td>\n",
       "      <td>Brunnenstr. Nord</td>\n",
       "      <td>-0.9986</td>\n",
       "    </tr>\n",
       "  </tbody>\n",
       "</table>\n",
       "</div>"
      ],
      "text/plain": [
       "        listing_id                                           comments  \\\n",
       "240215    11294127  Der Aufenthalt bei Myriam u. Mathis war toll. ...   \n",
       "341017    18044136  Die Wohnung hat eigentlich eine Bewertung von ...   \n",
       "72243      1234638  Die Ankuft in der Wohnung war gut. Wir wurden ...   \n",
       "299340    15369165  ICH WARNE ALLE INTERESSENTEN DRINGEND VOR DIES...   \n",
       "137639     4150220  Zunächst möchte ich sagen, dass ich eine sehr ...   \n",
       "494560    35090506  Handtücher, Bettwäsche, Möbel etc. in Ordnung....   \n",
       "240207    11294127  Die Begrüßung der Hausherrin war wenig herzlic...   \n",
       "29515       322520  Die Schlüsselübergabe funktionierte bei uns pe...   \n",
       "462810    29069957  SCHREKLICHE ERFAHRUNG: (Spanish version below)...   \n",
       "111824     2697520  Sehr schöne Wohnung, tolle Ausstattung – Wir h...   \n",
       "\n",
       "                   neighbourhood  polarity_score  \n",
       "240215                    Buckow         -0.9980  \n",
       "341017            Schöneberg-Süd         -0.9980  \n",
       "72243     Frankfurter Allee Nord         -0.9981  \n",
       "299340           Heerstraße Nord         -0.9982  \n",
       "137639  Frankfurter Allee Süd FK         -0.9982  \n",
       "494560       Prenzlauer Berg Ost         -0.9983  \n",
       "240207                    Buckow         -0.9985  \n",
       "29515       Prenzlauer Berg Nord         -0.9985  \n",
       "462810           Wedding Zentrum         -0.9985  \n",
       "111824          Brunnenstr. Nord         -0.9986  "
      ]
     },
     "execution_count": 36,
     "metadata": {},
     "output_type": "execute_result"
    }
   ],
   "source": [
    "# Explore the worst reviews\n",
    "df_comments.sort_values(by='polarity_score',ascending=False).tail(10)\n"
   ]
  },
  {
   "cell_type": "markdown",
   "metadata": {},
   "source": [
    "#### FINDINGS\n",
    "\n",
    "It is interesting to see that most of the reviews that were rated badly on the polarity score are not all bad. This might be explained by the fact that the reviews were in German! Perhaps this is a limitation of the Sentiment Intensity Analyzer. "
   ]
  },
  {
   "cell_type": "markdown",
   "metadata": {},
   "source": [
    "### Question 3 - PRICE PREDICTION\n",
    "\n",
    "**1.** Predict price for a given listing. <br>\n",
    "**2.** What factors correlate well to predicting price?\n"
   ]
  },
  {
   "cell_type": "code",
   "execution_count": 37,
   "metadata": {},
   "outputs": [
    {
     "data": {
      "text/plain": [
       "0"
      ]
     },
     "execution_count": 37,
     "metadata": {},
     "output_type": "execute_result"
    }
   ],
   "source": [
    "# Check if price has missing values, if it does, we want to remove those records from the dataset\n",
    "df_listings['price'].isnull().sum()"
   ]
  },
  {
   "cell_type": "markdown",
   "metadata": {},
   "source": [
    "#### FINDINGS\n",
    "\n",
    "All records in the listings dataset have price information available to use.\n",
    "\n",
    "Based on the field definitions, there are some columns that seem less likely to impact price, so we will drop these from the dataset in order to work with a cleaner and smaller dataset. The reasons for dropping these fields are mostly:\n",
    "- ID field or meta data associated with the listing\n",
    "- Other fields that capture same/similar information (eg: using country code and dropping country)\n",
    "- Dropping very granular fields such as street, zipcode, latitude, longitude etc. and keeping the analysis at the city level\n",
    "\n",
    "The columns we will be dropping are:\n",
    "id,listing_url,scrape_id,last_scraped,thumbnail_url,medium_url,xl_picture_url,host_id,\n",
    "host_url,host_thumbnail_url,host_verifications,street,neighbourhood,neighbourhood_group_cleansed,zipcode,smart_location,country,latitude,longitude,weekly_price,monthly_price,calendar_updated,calendar_last_scraped,first_review,last_review,\n",
    "calculated_host_listings_count,reviews_per_month"
   ]
  },
  {
   "cell_type": "code",
   "execution_count": 38,
   "metadata": {},
   "outputs": [
    {
     "data": {
      "text/plain": [
       "(24422, 106)"
      ]
     },
     "execution_count": 38,
     "metadata": {},
     "output_type": "execute_result"
    }
   ],
   "source": [
    "df_listings.shape"
   ]
  },
  {
   "cell_type": "code",
   "execution_count": 39,
   "metadata": {},
   "outputs": [
    {
     "data": {
      "text/plain": [
       "(24422, 79)"
      ]
     },
     "execution_count": 39,
     "metadata": {},
     "output_type": "execute_result"
    }
   ],
   "source": [
    "# Drop columns that are less likely to have an impact on price\n",
    "df_list = df_listings.copy()\n",
    "cols_less_impact = ['id','listing_url','scrape_id','last_scraped','thumbnail_url','medium_url','xl_picture_url','host_id','host_url','host_thumbnail_url','host_verifications','street','neighbourhood','neighbourhood_group_cleansed','zipcode','smart_location','country','latitude','longitude','weekly_price','monthly_price','calendar_updated','calendar_last_scraped','first_review','last_review','calculated_host_listings_count','reviews_per_month']\n",
    "df_list = df_list.drop(cols_less_impact, axis=1)\n",
    "df_list.shape"
   ]
  },
  {
   "cell_type": "code",
   "execution_count": 40,
   "metadata": {},
   "outputs": [
    {
     "data": {
      "text/plain": [
       "['host_acceptance_rate', 'jurisdiction_names']"
      ]
     },
     "execution_count": 40,
     "metadata": {},
     "output_type": "execute_result"
    }
   ],
   "source": [
    "# Find columns with all missing values if any \n",
    "df_list.columns[df_list.isnull().all()].tolist()"
   ]
  },
  {
   "cell_type": "code",
   "execution_count": 41,
   "metadata": {},
   "outputs": [
    {
     "data": {
      "text/plain": [
       "(24422, 77)"
      ]
     },
     "execution_count": 41,
     "metadata": {},
     "output_type": "execute_result"
    }
   ],
   "source": [
    "# Drop host_acceptance_rate,jurisdiction_names column\n",
    "df_list = df_list.drop('jurisdiction_names', axis=1)\n",
    "df_list = df_list.drop('host_acceptance_rate', axis=1)\n",
    "df_list.shape"
   ]
  },
  {
   "cell_type": "code",
   "execution_count": 42,
   "metadata": {},
   "outputs": [
    {
     "name": "stdout",
     "output_type": "stream",
     "text": [
      "host_listings_count 32\n",
      "host_total_listings_count 32\n",
      "bathrooms 25\n",
      "bedrooms 23\n",
      "beds 29\n",
      "square_feet 23992\n",
      "price 0\n",
      "minimum_nights_avg_ntm 0\n",
      "maximum_nights_avg_ntm 0\n",
      "review_scores_rating 4610\n",
      "review_scores_accuracy 4635\n",
      "review_scores_cleanliness 4632\n",
      "review_scores_checkin 4654\n",
      "review_scores_communication 4637\n",
      "review_scores_location 4653\n",
      "review_scores_value 4656\n"
     ]
    }
   ],
   "source": [
    "# Review all the numerical columns and assess missing values\n",
    "\n",
    "num_cols = df_list.select_dtypes(include=['float', 'int']).columns\n",
    "for col in num_cols:\n",
    "    print(col,df_list[col].isnull().sum())"
   ]
  },
  {
   "cell_type": "markdown",
   "metadata": {},
   "source": [
    "#### FINDINGS\n",
    "\n",
    "bathrooms - There are 25 rows with Nan for bathrooms. Since it's a small percentage of rows, I have decided to set bathrooms to 0 for Nan values\n",
    "\n",
    "bedrooms - Looking at the dataset, since all the rows with blank bedroom field have beds value of at least 1, I will use 1 for bedrooms where bedrooms is Nan\n",
    "\n",
    "beds - For the 1 record that have beds as Nan, bed_type is specified as Real Bed, so I will set beds to 1 for this case\n",
    "\n",
    "square_feet - Since a good percentage of this field is Nan, I am going to drop this column\n",
    "\n",
    "review_scores columns - Since these are review related scores, I will be setting all Nan values to 0 assuming no review scores for these listings.\n",
    "\n",
    "host_listings_count and host_total_listings_count - There are only 32 rows with no values. Looking at the data, I determined that these host IDs only have 1 record associated with them each, so I decided to populate with 1."
   ]
  },
  {
   "cell_type": "code",
   "execution_count": 43,
   "metadata": {},
   "outputs": [],
   "source": [
    "# Set 0 for bathroom where bathroom is Nan\n",
    "df_list['bathrooms'] = df_list['bathrooms'].fillna(0)\n",
    "\n",
    "# Set 1 for bedrooms where bedrooms is Nan\n",
    "df_list['bedrooms'] = df_list['bedrooms'].fillna(1)\n",
    "\n",
    "# Set 1 for beds where beds is Nan\n",
    "df_list['beds'] = df_list['beds'].fillna(1)\n",
    "\n",
    "# Drop square_feet column\n",
    "df_list = df_list.drop('square_feet',axis=1)\n",
    "\n",
    "# Set all review scores columns with 0 for Nan values\n",
    "cols_fillna_0 = ['review_scores_rating','review_scores_accuracy','review_scores_cleanliness','review_scores_checkin','review_scores_communication','review_scores_location','review_scores_value']\n",
    "for col in cols_fillna_0:\n",
    "    df_list[col] = df_list[col].fillna(0)\n",
    "\n",
    "# Set host_listings_count and host_total_listings_count to 1\n",
    "df_list['host_listings_count'] = df_list['host_listings_count'].fillna(1)\n",
    "df_list['host_total_listings_count'] = df_list['host_total_listings_count'].fillna(1)\n"
   ]
  },
  {
   "cell_type": "code",
   "execution_count": 44,
   "metadata": {},
   "outputs": [
    {
     "name": "stdout",
     "output_type": "stream",
     "text": [
      "host_listings_count 0\n",
      "host_total_listings_count 0\n",
      "bathrooms 0\n",
      "bedrooms 0\n",
      "beds 0\n",
      "price 0\n",
      "minimum_nights_avg_ntm 0\n",
      "maximum_nights_avg_ntm 0\n",
      "review_scores_rating 0\n",
      "review_scores_accuracy 0\n",
      "review_scores_cleanliness 0\n",
      "review_scores_checkin 0\n",
      "review_scores_communication 0\n",
      "review_scores_location 0\n",
      "review_scores_value 0\n"
     ]
    }
   ],
   "source": [
    "# Check again all the numerical columns\n",
    "num_cols = df_list.select_dtypes(include=['float', 'int']).columns\n",
    "for col in num_cols:\n",
    "    print(col,df_list[col].isnull().sum())"
   ]
  },
  {
   "cell_type": "code",
   "execution_count": 45,
   "metadata": {},
   "outputs": [
    {
     "name": "stdout",
     "output_type": "stream",
     "text": [
      "name 51\n",
      "summary 1191\n",
      "space 8588\n",
      "description 385\n",
      "experiences_offered 0\n",
      "neighborhood_overview 10872\n",
      "notes 16554\n",
      "transit 9479\n",
      "access 13100\n",
      "interaction 12241\n",
      "house_rules 12042\n",
      "picture_url 0\n",
      "host_name 32\n",
      "host_since 32\n",
      "host_location 119\n",
      "host_about 12359\n",
      "host_response_time 10411\n",
      "host_response_rate 10411\n",
      "host_is_superhost 32\n",
      "host_picture_url 32\n",
      "host_neighbourhood 5227\n",
      "host_has_profile_pic 32\n",
      "host_identity_verified 32\n",
      "neighbourhood_cleansed 0\n",
      "city 6\n",
      "state 124\n",
      "market 58\n",
      "country_code 0\n",
      "is_location_exact 0\n",
      "property_type 0\n",
      "room_type 0\n",
      "bed_type 0\n",
      "amenities 0\n",
      "security_deposit 9508\n",
      "cleaning_fee 7194\n",
      "extra_people 0\n",
      "has_availability 0\n",
      "requires_license 0\n",
      "license 21926\n",
      "instant_bookable 0\n",
      "is_business_travel_ready 0\n",
      "cancellation_policy 1\n",
      "require_guest_profile_picture 0\n",
      "require_guest_phone_verification 0\n"
     ]
    }
   ],
   "source": [
    "# Review all the categorical columns and assess missing values\n",
    "\n",
    "cat_cols = df_list.select_dtypes(include=['object']).columns\n",
    "for col in cat_cols:\n",
    "        print(col,df_list[col].isnull().sum())"
   ]
  },
  {
   "cell_type": "markdown",
   "metadata": {},
   "source": [
    "#### FINDINGS\n",
    "\n",
    "\n",
    "access 13100\n",
    "interaction 12241\n",
    "house_rules 12042\n",
    "host_picture_url 32\n",
    "host_neighbourhood 5227\n",
    "license 21926\n",
    "cancellation_policy 1\n",
    "neighbourhood_cleansed 0\n",
    "country_code 0\n",
    "is_location_exact 0\n",
    "room_type 0\n",
    "bed_type 0\n",
    "extra_people 0\n",
    "has_availability 0\n",
    "requires_license 0\n",
    "instant_bookable 0\n",
    "is_business_travel_ready 0\n",
    "\n",
    "* **summary, space, neighborhood_overview, notes, transit**  - Since these are all text fields describing the property in some way, I have decided to convert these fields into boolean fields to indicate if a value exists. I am doing so that I can consider listings that have descriptive information available like summary and transit towards price prediction.\n",
    "\n",
    "* **host_name, host_since, host_location, host_about, host_picture_url, host_neighbourhood** - Since these are all fields that are descriptive about the host, I am going to convert these fields into boolean fields as well to indicate if a value exists or not.\n",
    "\n",
    "* **host_response_time** - These field seems to have N/A as a valid value, so I will assign N/A where Nan values exist.\n",
    "\n",
    "* **host_response_rate** - Looking at the data, since this is a percentage value and the range is quite distributed, I will be converting this to float and setting N/A and blanks to 0.\n",
    "\n",
    "* **host_is_superhost, host_has_profile_pic, host_identity_verified - These are boolean fields with t or f values. Assign 1 for t, 0 for f and assign Nans with 0\n",
    "\n",
    "property_type - Since this is just 1 record, we will just drop this record\n",
    "\n",
    "* **security_deposit** - We will assume a 0 security deposit for where it is not specified. We will also remove $ signs and convert to float\n",
    "\n",
    "* **cleaning_fee** - We will assume a 0 cleaning_fee where it is not specified. We will also remove $ signs and convert to float\n",
    "\n",
    "\n",
    "* **name, description, picture_url** - Since these are all text fields as well, I have decided to convert these fields into boolean fields to indicate if a value exists. I am doing so that I can consider listings that have descriptive information available like description and picture_url towards price prediction.\n",
    "\n",
    "* **experiences_offered** - all values in this column are 'none' and it doesn't add any value, so we will be dropping this column\n",
    "\n",
    "* **city** - There are some missing values for city . the nan will be replaced by Berlin and all city names to lowercase in    order to standardize. \n",
    "* **market, state** - all values are 'Berlin' in this column, since we have other descriptors for Berlin, we will be dropping this column\n",
    "\n",
    "* **is_location_exact, has_availability, requires_license, instant_bookable, require_guest_profile_picture, require_guest_phone_verification** - these fields have t/f values, will convert to 1/0.\n",
    "\n",
    "* **extra_people** - Need to remove $ sign and convert to float\n",
    "\n",
    "* **amenities** - this field contains a list of values in each row, we will need to figure out how to handle this column"
   ]
  },
  {
   "cell_type": "code",
   "execution_count": 46,
   "metadata": {},
   "outputs": [],
   "source": [
    "# Function to set all text fields to boolean\n",
    "def set_bool_text(textdata):\n",
    "    '''\n",
    "    Function to set all text fields to boolean\n",
    "    INPUT:\n",
    "    textdata - the textdata that needs to be converted into a bool value \n",
    "    OUTPUT:\n",
    "    Boolean 0 or 1 - Returns 0 if no text passed, 1 otherwise to indicate presence of the text field\n",
    "    \n",
    "    Converts the text columns into a boolean field representing the presence or absence of the text field\n",
    "    '''\n",
    "    if not textdata:\n",
    "        return 0\n",
    "    else:\n",
    "        return 1\n",
    "\n",
    "\n",
    "text_host_fields = []\n",
    "for t in text_host_fields:\n",
    "    df_list[t] = df_list[t].apply(set_bool_text)"
   ]
  },
  {
   "cell_type": "code",
   "execution_count": 47,
   "metadata": {},
   "outputs": [],
   "source": [
    "# Function to set all t/f fields to 1/0\n",
    "def set_bool_tf(tfdata):\n",
    "    '''\n",
    "    Function to set all true/false fields to 1 or 0\n",
    "    INPUT:\n",
    "    tfdata - the true or false fields that have 't' and 'f' values that we would like to convert to boolean\n",
    "    OUTPUT:\n",
    "    Boolean 0 or 1 - Returns 0 if false, 1 for true\n",
    "    \n",
    "    Converts a true or false type field into a boolean with 1 and 0s\n",
    "    '''\n",
    "    if tfdata == 't':\n",
    "        return 1\n",
    "    else: \n",
    "        return 0\n",
    "\n",
    "tf_fields = []\n",
    "for t in tf_fields:\n",
    "    df_list[t] = df_list[t].apply(set_bool_tf)"
   ]
  }
 ],
 "metadata": {
  "kernelspec": {
   "display_name": "Python 3",
   "language": "python",
   "name": "python3"
  },
  "language_info": {
   "codemirror_mode": {
    "name": "ipython",
    "version": 3
   },
   "file_extension": ".py",
   "mimetype": "text/x-python",
   "name": "python",
   "nbconvert_exporter": "python",
   "pygments_lexer": "ipython3",
   "version": "3.6.8"
  }
 },
 "nbformat": 4,
 "nbformat_minor": 2
}
